{
 "cells": [
  {
   "cell_type": "markdown",
   "metadata": {},
   "source": [
    "## Задание 1"
   ]
  },
  {
   "cell_type": "markdown",
   "metadata": {},
   "source": [
    "Представьте, что вы работаете в компании, которая разрабатывает мобильные игры. К вам пришел менеджер с рядом задач по исследованию нескольких аспектов мобильного приложения:\n",
    "\n",
    "В первую очередь, его интересует показатель retention. Напишите функцию для его подсчета.\n",
    "Retention – один из самых важных показателей в компании. Ваша задача – написать функцию, которая будет считать retention игроков (по дням от даты регистрации игрока)."
   ]
  },
  {
   "cell_type": "code",
   "execution_count": 1,
   "metadata": {},
   "outputs": [],
   "source": [
    "import pandas as pd\n",
    "from datetime import datetime, timedelta\n",
    "import datetime as dt\n",
    "#импортируем библиотеки"
   ]
  },
  {
   "cell_type": "code",
   "execution_count": 2,
   "metadata": {},
   "outputs": [],
   "source": [
    "#считываем файлы \n",
    "reg = pd.read_csv('/mnt/HC_Volume_18315164/home-jupyter/jupyter-e-streltsova-31/shared/problem1-reg_data.csv', sep =';')\n",
    "auth = pd.read_csv('/mnt/HC_Volume_18315164/home-jupyter/jupyter-e-streltsova-31/shared/problem1-auth_data.csv', sep =';')"
   ]
  },
  {
   "cell_type": "code",
   "execution_count": 3,
   "metadata": {},
   "outputs": [
    {
     "data": {
      "text/plain": [
       "(1000000, 2)"
      ]
     },
     "execution_count": 3,
     "metadata": {},
     "output_type": "execute_result"
    }
   ],
   "source": [
    "#посмотрим на размер датасетов\n",
    "reg.shape"
   ]
  },
  {
   "cell_type": "code",
   "execution_count": 4,
   "metadata": {},
   "outputs": [
    {
     "data": {
      "text/plain": [
       "(9601013, 2)"
      ]
     },
     "execution_count": 4,
     "metadata": {},
     "output_type": "execute_result"
    }
   ],
   "source": [
    "auth.shape"
   ]
  },
  {
   "cell_type": "code",
   "execution_count": 5,
   "metadata": {},
   "outputs": [],
   "source": [
    "#соединяем два датасета с датой регистрации и авторизациями\n",
    "full = auth.merge(reg, how = 'left', on = 'uid')"
   ]
  },
  {
   "cell_type": "code",
   "execution_count": 6,
   "metadata": {},
   "outputs": [
    {
     "data": {
      "text/html": [
       "<div>\n",
       "<style scoped>\n",
       "    .dataframe tbody tr th:only-of-type {\n",
       "        vertical-align: middle;\n",
       "    }\n",
       "\n",
       "    .dataframe tbody tr th {\n",
       "        vertical-align: top;\n",
       "    }\n",
       "\n",
       "    .dataframe thead th {\n",
       "        text-align: right;\n",
       "    }\n",
       "</style>\n",
       "<table border=\"1\" class=\"dataframe\">\n",
       "  <thead>\n",
       "    <tr style=\"text-align: right;\">\n",
       "      <th></th>\n",
       "      <th>auth_ts</th>\n",
       "      <th>uid</th>\n",
       "      <th>reg_ts</th>\n",
       "    </tr>\n",
       "  </thead>\n",
       "  <tbody>\n",
       "    <tr>\n",
       "      <th>0</th>\n",
       "      <td>911382223</td>\n",
       "      <td>1</td>\n",
       "      <td>911382223</td>\n",
       "    </tr>\n",
       "    <tr>\n",
       "      <th>1</th>\n",
       "      <td>932683089</td>\n",
       "      <td>2</td>\n",
       "      <td>932683089</td>\n",
       "    </tr>\n",
       "    <tr>\n",
       "      <th>2</th>\n",
       "      <td>932921206</td>\n",
       "      <td>2</td>\n",
       "      <td>932683089</td>\n",
       "    </tr>\n",
       "    <tr>\n",
       "      <th>3</th>\n",
       "      <td>933393015</td>\n",
       "      <td>2</td>\n",
       "      <td>932683089</td>\n",
       "    </tr>\n",
       "    <tr>\n",
       "      <th>4</th>\n",
       "      <td>933875379</td>\n",
       "      <td>2</td>\n",
       "      <td>932683089</td>\n",
       "    </tr>\n",
       "  </tbody>\n",
       "</table>\n",
       "</div>"
      ],
      "text/plain": [
       "     auth_ts  uid     reg_ts\n",
       "0  911382223    1  911382223\n",
       "1  932683089    2  932683089\n",
       "2  932921206    2  932683089\n",
       "3  933393015    2  932683089\n",
       "4  933875379    2  932683089"
      ]
     },
     "execution_count": 6,
     "metadata": {},
     "output_type": "execute_result"
    }
   ],
   "source": [
    "full.head()"
   ]
  },
  {
   "cell_type": "code",
   "execution_count": 7,
   "metadata": {},
   "outputs": [
    {
     "data": {
      "text/plain": [
       "1000000"
      ]
     },
     "execution_count": 7,
     "metadata": {},
     "output_type": "execute_result"
    }
   ],
   "source": [
    "full.uid.nunique()"
   ]
  },
  {
   "cell_type": "code",
   "execution_count": 8,
   "metadata": {},
   "outputs": [
    {
     "data": {
      "text/plain": [
       "auth_ts    0\n",
       "uid        0\n",
       "reg_ts     0\n",
       "dtype: int64"
      ]
     },
     "execution_count": 8,
     "metadata": {},
     "output_type": "execute_result"
    }
   ],
   "source": [
    "full.isna().sum()"
   ]
  },
  {
   "cell_type": "code",
   "execution_count": 9,
   "metadata": {},
   "outputs": [
    {
     "data": {
      "text/plain": [
       "auth_ts    int64\n",
       "uid        int64\n",
       "reg_ts     int64\n",
       "dtype: object"
      ]
     },
     "execution_count": 9,
     "metadata": {},
     "output_type": "execute_result"
    }
   ],
   "source": [
    "full.dtypes"
   ]
  },
  {
   "cell_type": "code",
   "execution_count": 10,
   "metadata": {},
   "outputs": [
    {
     "data": {
      "text/html": [
       "<div>\n",
       "<style scoped>\n",
       "    .dataframe tbody tr th:only-of-type {\n",
       "        vertical-align: middle;\n",
       "    }\n",
       "\n",
       "    .dataframe tbody tr th {\n",
       "        vertical-align: top;\n",
       "    }\n",
       "\n",
       "    .dataframe thead th {\n",
       "        text-align: right;\n",
       "    }\n",
       "</style>\n",
       "<table border=\"1\" class=\"dataframe\">\n",
       "  <thead>\n",
       "    <tr style=\"text-align: right;\">\n",
       "      <th></th>\n",
       "      <th>auth_ts</th>\n",
       "      <th>uid</th>\n",
       "      <th>reg_ts</th>\n",
       "    </tr>\n",
       "  </thead>\n",
       "  <tbody>\n",
       "  </tbody>\n",
       "</table>\n",
       "</div>"
      ],
      "text/plain": [
       "Empty DataFrame\n",
       "Columns: [auth_ts, uid, reg_ts]\n",
       "Index: []"
      ]
     },
     "execution_count": 10,
     "metadata": {},
     "output_type": "execute_result"
    }
   ],
   "source": [
    "full.loc[full.duplicated()]"
   ]
  },
  {
   "cell_type": "markdown",
   "metadata": {},
   "source": [
    "Пропущенных значений и дубликатов нет, данные о 1 млн уникальных пользователей. Данные о регистрации и авторизайии находятся в формате Unix. Переведем их в привычный формат даты"
   ]
  },
  {
   "cell_type": "code",
   "execution_count": 11,
   "metadata": {},
   "outputs": [],
   "source": [
    "full['reg_ts'] = pd.to_datetime(full['reg_ts'], unit='s').dt.date.astype('datetime64')\n",
    "full['auth_ts'] = pd.to_datetime(full['auth_ts'], unit='s').dt.date.astype('datetime64')"
   ]
  },
  {
   "cell_type": "code",
   "execution_count": 12,
   "metadata": {},
   "outputs": [
    {
     "data": {
      "text/plain": [
       "auth_ts    datetime64[ns]\n",
       "uid                 int64\n",
       "reg_ts     datetime64[ns]\n",
       "dtype: object"
      ]
     },
     "execution_count": 12,
     "metadata": {},
     "output_type": "execute_result"
    }
   ],
   "source": [
    "full.dtypes"
   ]
  },
  {
   "cell_type": "code",
   "execution_count": 13,
   "metadata": {},
   "outputs": [
    {
     "data": {
      "text/plain": [
       "Timestamp('1998-11-18 00:00:00')"
      ]
     },
     "execution_count": 13,
     "metadata": {},
     "output_type": "execute_result"
    }
   ],
   "source": [
    "full['reg_ts'].min()"
   ]
  },
  {
   "cell_type": "code",
   "execution_count": 14,
   "metadata": {},
   "outputs": [
    {
     "data": {
      "text/plain": [
       "Timestamp('2020-09-23 00:00:00')"
      ]
     },
     "execution_count": 14,
     "metadata": {},
     "output_type": "execute_result"
    }
   ],
   "source": [
    "full['auth_ts'].max()"
   ]
  },
  {
   "cell_type": "markdown",
   "metadata": {},
   "source": [
    "Датасет очень большой, более 20 лет включено в датасет.\n",
    "Напишем функцию для расчета retention"
   ]
  },
  {
   "cell_type": "code",
   "execution_count": 27,
   "metadata": {},
   "outputs": [],
   "source": [
    "def retention_rate_table(reg, auth, start, end, days):\n",
    "    \n",
    "    \"\"\"функция для подсчета retention по дням, \n",
    "принимает на вход датасеты с ID и датой регистрации, ID и даты авторизаций, даты начала \n",
    "периода и конца периода, а также количество дней для расчета retention\"\"\"\n",
    "    \n",
    "    #cчитываем данные    \n",
    "    reg_df = pd.read_csv(reg, sep=';')\n",
    "    auth_df = pd.read_csv(auth, sep=';')\n",
    "    \n",
    "      \n",
    "    #переводим unix в привычный форматы даты\n",
    "    reg_df['reg_ts'] = pd.to_datetime(reg_df['reg_ts'], unit='s').dt.date.astype('datetime64')\n",
    "    auth_df['auth_ts'] = pd.to_datetime(auth_df['auth_ts'], unit='s').dt.date.astype('datetime64')\n",
    "    \n",
    "    #оставляем только нужный период\n",
    "    reg_df = reg_df.query('reg_ts >= @start & reg_ts <= @end')\n",
    "    auth_df = auth_df.query('auth_ts >= @start')\n",
    "    \n",
    "    #соединяем датасеты\n",
    "    full = auth_df.merge(reg_df, how = 'left', on = 'uid')\n",
    "       \n",
    "    #добавляем информацию о периоде  \n",
    "    \n",
    "    full['period'] = (full['auth_ts'] - full['reg_ts']).dt.days\n",
    "    \n",
    "    #переименовываем столбец с датой регистрации - это когорты\n",
    "    \n",
    "    full = full.rename(columns = {'reg_ts': 'cohort_date'})\n",
    "    \n",
    "    #отфильтровываем период по нужному нам количеству дней для расчета и делаем сводную\n",
    "    \n",
    "    cohort_pivot = full.query('period <= @days').pivot_table(columns = 'period', index = 'cohort_date',\n",
    "                           values = 'uid', aggfunc = 'nunique')\n",
    "        \n",
    "    #делим столбцы на первое значение, чтобы получить процентное соотношение\n",
    "    cohort_percent = cohort_pivot.divide(cohort_pivot.iloc[:,0], axis=0).mul(100).round(2)\n",
    "    \n",
    "    #добавляем кол-во пользователей в когорте\n",
    "    users = full.groupby('cohort_date').agg({'uid':'nunique'})\n",
    "    cohort_percent = cohort_percent.merge(users, on='cohort_date', how='left').rename(columns={'uid': 'users'})\n",
    "    cohort_percent = cohort_percent.reset_index().set_index(['cohort_date', 'users'])\n",
    "     \n",
    "    return cohort_percent\n",
    "    "
   ]
  },
  {
   "cell_type": "code",
   "execution_count": 28,
   "metadata": {},
   "outputs": [
    {
     "data": {
      "text/html": [
       "<div>\n",
       "<style scoped>\n",
       "    .dataframe tbody tr th:only-of-type {\n",
       "        vertical-align: middle;\n",
       "    }\n",
       "\n",
       "    .dataframe tbody tr th {\n",
       "        vertical-align: top;\n",
       "    }\n",
       "\n",
       "    .dataframe thead th {\n",
       "        text-align: right;\n",
       "    }\n",
       "</style>\n",
       "<table border=\"1\" class=\"dataframe\">\n",
       "  <thead>\n",
       "    <tr style=\"text-align: right;\">\n",
       "      <th></th>\n",
       "      <th></th>\n",
       "      <th>0.0</th>\n",
       "      <th>1.0</th>\n",
       "      <th>2.0</th>\n",
       "      <th>3.0</th>\n",
       "      <th>4.0</th>\n",
       "      <th>5.0</th>\n",
       "      <th>6.0</th>\n",
       "      <th>7.0</th>\n",
       "      <th>8.0</th>\n",
       "      <th>9.0</th>\n",
       "      <th>10.0</th>\n",
       "      <th>11.0</th>\n",
       "      <th>12.0</th>\n",
       "      <th>13.0</th>\n",
       "      <th>14.0</th>\n",
       "      <th>15.0</th>\n",
       "    </tr>\n",
       "    <tr>\n",
       "      <th>cohort_date</th>\n",
       "      <th>users</th>\n",
       "      <th></th>\n",
       "      <th></th>\n",
       "      <th></th>\n",
       "      <th></th>\n",
       "      <th></th>\n",
       "      <th></th>\n",
       "      <th></th>\n",
       "      <th></th>\n",
       "      <th></th>\n",
       "      <th></th>\n",
       "      <th></th>\n",
       "      <th></th>\n",
       "      <th></th>\n",
       "      <th></th>\n",
       "      <th></th>\n",
       "      <th></th>\n",
       "    </tr>\n",
       "  </thead>\n",
       "  <tbody>\n",
       "    <tr>\n",
       "      <th>2020-03-01</th>\n",
       "      <th>1172</th>\n",
       "      <td>100.0</td>\n",
       "      <td>1.96</td>\n",
       "      <td>4.44</td>\n",
       "      <td>4.86</td>\n",
       "      <td>5.20</td>\n",
       "      <td>4.61</td>\n",
       "      <td>6.83</td>\n",
       "      <td>5.20</td>\n",
       "      <td>4.69</td>\n",
       "      <td>4.61</td>\n",
       "      <td>5.20</td>\n",
       "      <td>4.18</td>\n",
       "      <td>5.80</td>\n",
       "      <td>4.18</td>\n",
       "      <td>3.67</td>\n",
       "      <td>5.12</td>\n",
       "    </tr>\n",
       "    <tr>\n",
       "      <th>2020-03-02</th>\n",
       "      <th>1173</th>\n",
       "      <td>100.0</td>\n",
       "      <td>1.36</td>\n",
       "      <td>3.67</td>\n",
       "      <td>4.18</td>\n",
       "      <td>4.94</td>\n",
       "      <td>6.73</td>\n",
       "      <td>6.05</td>\n",
       "      <td>6.31</td>\n",
       "      <td>4.86</td>\n",
       "      <td>5.29</td>\n",
       "      <td>5.12</td>\n",
       "      <td>5.71</td>\n",
       "      <td>4.94</td>\n",
       "      <td>5.12</td>\n",
       "      <td>3.67</td>\n",
       "      <td>3.92</td>\n",
       "    </tr>\n",
       "    <tr>\n",
       "      <th>2020-03-03</th>\n",
       "      <th>1176</th>\n",
       "      <td>100.0</td>\n",
       "      <td>2.38</td>\n",
       "      <td>2.98</td>\n",
       "      <td>4.85</td>\n",
       "      <td>4.34</td>\n",
       "      <td>5.36</td>\n",
       "      <td>7.48</td>\n",
       "      <td>4.76</td>\n",
       "      <td>4.51</td>\n",
       "      <td>5.70</td>\n",
       "      <td>5.02</td>\n",
       "      <td>4.68</td>\n",
       "      <td>5.27</td>\n",
       "      <td>5.36</td>\n",
       "      <td>4.34</td>\n",
       "      <td>4.17</td>\n",
       "    </tr>\n",
       "    <tr>\n",
       "      <th>2020-03-04</th>\n",
       "      <th>1177</th>\n",
       "      <td>100.0</td>\n",
       "      <td>2.63</td>\n",
       "      <td>4.50</td>\n",
       "      <td>6.63</td>\n",
       "      <td>5.18</td>\n",
       "      <td>6.37</td>\n",
       "      <td>7.22</td>\n",
       "      <td>8.16</td>\n",
       "      <td>4.33</td>\n",
       "      <td>5.35</td>\n",
       "      <td>5.86</td>\n",
       "      <td>6.03</td>\n",
       "      <td>5.95</td>\n",
       "      <td>5.35</td>\n",
       "      <td>4.42</td>\n",
       "      <td>5.86</td>\n",
       "    </tr>\n",
       "    <tr>\n",
       "      <th>2020-03-05</th>\n",
       "      <th>1180</th>\n",
       "      <td>100.0</td>\n",
       "      <td>2.88</td>\n",
       "      <td>4.66</td>\n",
       "      <td>4.58</td>\n",
       "      <td>6.02</td>\n",
       "      <td>5.17</td>\n",
       "      <td>6.53</td>\n",
       "      <td>6.27</td>\n",
       "      <td>5.34</td>\n",
       "      <td>4.92</td>\n",
       "      <td>4.92</td>\n",
       "      <td>4.49</td>\n",
       "      <td>4.66</td>\n",
       "      <td>4.92</td>\n",
       "      <td>5.17</td>\n",
       "      <td>3.73</td>\n",
       "    </tr>\n",
       "    <tr>\n",
       "      <th>2020-03-06</th>\n",
       "      <th>1181</th>\n",
       "      <td>100.0</td>\n",
       "      <td>1.52</td>\n",
       "      <td>3.56</td>\n",
       "      <td>5.67</td>\n",
       "      <td>4.66</td>\n",
       "      <td>7.28</td>\n",
       "      <td>6.52</td>\n",
       "      <td>6.69</td>\n",
       "      <td>3.47</td>\n",
       "      <td>5.50</td>\n",
       "      <td>5.08</td>\n",
       "      <td>5.17</td>\n",
       "      <td>4.49</td>\n",
       "      <td>4.83</td>\n",
       "      <td>4.49</td>\n",
       "      <td>4.83</td>\n",
       "    </tr>\n",
       "    <tr>\n",
       "      <th>2020-03-07</th>\n",
       "      <th>1183</th>\n",
       "      <td>100.0</td>\n",
       "      <td>2.03</td>\n",
       "      <td>3.97</td>\n",
       "      <td>4.73</td>\n",
       "      <td>4.31</td>\n",
       "      <td>5.83</td>\n",
       "      <td>6.51</td>\n",
       "      <td>4.56</td>\n",
       "      <td>5.41</td>\n",
       "      <td>5.33</td>\n",
       "      <td>5.66</td>\n",
       "      <td>4.40</td>\n",
       "      <td>4.65</td>\n",
       "      <td>4.23</td>\n",
       "      <td>4.90</td>\n",
       "      <td>4.82</td>\n",
       "    </tr>\n",
       "    <tr>\n",
       "      <th>2020-03-08</th>\n",
       "      <th>1185</th>\n",
       "      <td>100.0</td>\n",
       "      <td>1.77</td>\n",
       "      <td>4.14</td>\n",
       "      <td>5.06</td>\n",
       "      <td>5.91</td>\n",
       "      <td>5.49</td>\n",
       "      <td>6.67</td>\n",
       "      <td>5.15</td>\n",
       "      <td>5.15</td>\n",
       "      <td>4.56</td>\n",
       "      <td>5.74</td>\n",
       "      <td>4.47</td>\n",
       "      <td>4.73</td>\n",
       "      <td>3.88</td>\n",
       "      <td>4.22</td>\n",
       "      <td>5.15</td>\n",
       "    </tr>\n",
       "    <tr>\n",
       "      <th>2020-03-09</th>\n",
       "      <th>1187</th>\n",
       "      <td>100.0</td>\n",
       "      <td>1.85</td>\n",
       "      <td>4.63</td>\n",
       "      <td>3.88</td>\n",
       "      <td>4.47</td>\n",
       "      <td>5.39</td>\n",
       "      <td>6.66</td>\n",
       "      <td>6.15</td>\n",
       "      <td>4.89</td>\n",
       "      <td>5.64</td>\n",
       "      <td>5.98</td>\n",
       "      <td>5.39</td>\n",
       "      <td>4.21</td>\n",
       "      <td>4.04</td>\n",
       "      <td>4.04</td>\n",
       "      <td>4.97</td>\n",
       "    </tr>\n",
       "    <tr>\n",
       "      <th>2020-03-10</th>\n",
       "      <th>1190</th>\n",
       "      <td>100.0</td>\n",
       "      <td>2.10</td>\n",
       "      <td>2.69</td>\n",
       "      <td>4.96</td>\n",
       "      <td>4.87</td>\n",
       "      <td>5.21</td>\n",
       "      <td>6.47</td>\n",
       "      <td>4.96</td>\n",
       "      <td>4.12</td>\n",
       "      <td>3.87</td>\n",
       "      <td>5.21</td>\n",
       "      <td>4.20</td>\n",
       "      <td>5.71</td>\n",
       "      <td>4.62</td>\n",
       "      <td>3.78</td>\n",
       "      <td>3.45</td>\n",
       "    </tr>\n",
       "    <tr>\n",
       "      <th>2020-03-11</th>\n",
       "      <th>1191</th>\n",
       "      <td>100.0</td>\n",
       "      <td>2.10</td>\n",
       "      <td>3.11</td>\n",
       "      <td>4.79</td>\n",
       "      <td>6.38</td>\n",
       "      <td>6.05</td>\n",
       "      <td>7.39</td>\n",
       "      <td>7.64</td>\n",
       "      <td>5.54</td>\n",
       "      <td>4.28</td>\n",
       "      <td>5.88</td>\n",
       "      <td>5.29</td>\n",
       "      <td>5.54</td>\n",
       "      <td>5.04</td>\n",
       "      <td>5.37</td>\n",
       "      <td>4.37</td>\n",
       "    </tr>\n",
       "    <tr>\n",
       "      <th>2020-03-12</th>\n",
       "      <th>1193</th>\n",
       "      <td>100.0</td>\n",
       "      <td>2.01</td>\n",
       "      <td>3.86</td>\n",
       "      <td>4.53</td>\n",
       "      <td>4.11</td>\n",
       "      <td>6.62</td>\n",
       "      <td>7.04</td>\n",
       "      <td>4.36</td>\n",
       "      <td>5.03</td>\n",
       "      <td>5.28</td>\n",
       "      <td>5.62</td>\n",
       "      <td>4.69</td>\n",
       "      <td>4.36</td>\n",
       "      <td>4.61</td>\n",
       "      <td>4.95</td>\n",
       "      <td>4.19</td>\n",
       "    </tr>\n",
       "    <tr>\n",
       "      <th>2020-03-13</th>\n",
       "      <th>1195</th>\n",
       "      <td>100.0</td>\n",
       "      <td>1.34</td>\n",
       "      <td>4.18</td>\n",
       "      <td>4.77</td>\n",
       "      <td>5.19</td>\n",
       "      <td>4.94</td>\n",
       "      <td>8.28</td>\n",
       "      <td>5.61</td>\n",
       "      <td>3.35</td>\n",
       "      <td>5.27</td>\n",
       "      <td>5.61</td>\n",
       "      <td>5.10</td>\n",
       "      <td>4.77</td>\n",
       "      <td>4.60</td>\n",
       "      <td>4.94</td>\n",
       "      <td>3.68</td>\n",
       "    </tr>\n",
       "    <tr>\n",
       "      <th>2020-03-14</th>\n",
       "      <th>1197</th>\n",
       "      <td>100.0</td>\n",
       "      <td>1.84</td>\n",
       "      <td>4.68</td>\n",
       "      <td>5.18</td>\n",
       "      <td>5.60</td>\n",
       "      <td>6.60</td>\n",
       "      <td>6.68</td>\n",
       "      <td>5.85</td>\n",
       "      <td>5.68</td>\n",
       "      <td>6.18</td>\n",
       "      <td>5.60</td>\n",
       "      <td>5.76</td>\n",
       "      <td>5.35</td>\n",
       "      <td>5.10</td>\n",
       "      <td>5.01</td>\n",
       "      <td>5.10</td>\n",
       "    </tr>\n",
       "    <tr>\n",
       "      <th>2020-03-15</th>\n",
       "      <th>1198</th>\n",
       "      <td>100.0</td>\n",
       "      <td>1.84</td>\n",
       "      <td>4.09</td>\n",
       "      <td>5.18</td>\n",
       "      <td>6.09</td>\n",
       "      <td>6.93</td>\n",
       "      <td>7.43</td>\n",
       "      <td>6.51</td>\n",
       "      <td>5.01</td>\n",
       "      <td>5.43</td>\n",
       "      <td>6.09</td>\n",
       "      <td>5.09</td>\n",
       "      <td>5.09</td>\n",
       "      <td>6.59</td>\n",
       "      <td>4.34</td>\n",
       "      <td>4.51</td>\n",
       "    </tr>\n",
       "  </tbody>\n",
       "</table>\n",
       "</div>"
      ],
      "text/plain": [
       "                    0.0   1.0   2.0   3.0   4.0   5.0   6.0   7.0   8.0   \\\n",
       "cohort_date users                                                          \n",
       "2020-03-01  1172   100.0  1.96  4.44  4.86  5.20  4.61  6.83  5.20  4.69   \n",
       "2020-03-02  1173   100.0  1.36  3.67  4.18  4.94  6.73  6.05  6.31  4.86   \n",
       "2020-03-03  1176   100.0  2.38  2.98  4.85  4.34  5.36  7.48  4.76  4.51   \n",
       "2020-03-04  1177   100.0  2.63  4.50  6.63  5.18  6.37  7.22  8.16  4.33   \n",
       "2020-03-05  1180   100.0  2.88  4.66  4.58  6.02  5.17  6.53  6.27  5.34   \n",
       "2020-03-06  1181   100.0  1.52  3.56  5.67  4.66  7.28  6.52  6.69  3.47   \n",
       "2020-03-07  1183   100.0  2.03  3.97  4.73  4.31  5.83  6.51  4.56  5.41   \n",
       "2020-03-08  1185   100.0  1.77  4.14  5.06  5.91  5.49  6.67  5.15  5.15   \n",
       "2020-03-09  1187   100.0  1.85  4.63  3.88  4.47  5.39  6.66  6.15  4.89   \n",
       "2020-03-10  1190   100.0  2.10  2.69  4.96  4.87  5.21  6.47  4.96  4.12   \n",
       "2020-03-11  1191   100.0  2.10  3.11  4.79  6.38  6.05  7.39  7.64  5.54   \n",
       "2020-03-12  1193   100.0  2.01  3.86  4.53  4.11  6.62  7.04  4.36  5.03   \n",
       "2020-03-13  1195   100.0  1.34  4.18  4.77  5.19  4.94  8.28  5.61  3.35   \n",
       "2020-03-14  1197   100.0  1.84  4.68  5.18  5.60  6.60  6.68  5.85  5.68   \n",
       "2020-03-15  1198   100.0  1.84  4.09  5.18  6.09  6.93  7.43  6.51  5.01   \n",
       "\n",
       "                   9.0   10.0  11.0  12.0  13.0  14.0  15.0  \n",
       "cohort_date users                                            \n",
       "2020-03-01  1172   4.61  5.20  4.18  5.80  4.18  3.67  5.12  \n",
       "2020-03-02  1173   5.29  5.12  5.71  4.94  5.12  3.67  3.92  \n",
       "2020-03-03  1176   5.70  5.02  4.68  5.27  5.36  4.34  4.17  \n",
       "2020-03-04  1177   5.35  5.86  6.03  5.95  5.35  4.42  5.86  \n",
       "2020-03-05  1180   4.92  4.92  4.49  4.66  4.92  5.17  3.73  \n",
       "2020-03-06  1181   5.50  5.08  5.17  4.49  4.83  4.49  4.83  \n",
       "2020-03-07  1183   5.33  5.66  4.40  4.65  4.23  4.90  4.82  \n",
       "2020-03-08  1185   4.56  5.74  4.47  4.73  3.88  4.22  5.15  \n",
       "2020-03-09  1187   5.64  5.98  5.39  4.21  4.04  4.04  4.97  \n",
       "2020-03-10  1190   3.87  5.21  4.20  5.71  4.62  3.78  3.45  \n",
       "2020-03-11  1191   4.28  5.88  5.29  5.54  5.04  5.37  4.37  \n",
       "2020-03-12  1193   5.28  5.62  4.69  4.36  4.61  4.95  4.19  \n",
       "2020-03-13  1195   5.27  5.61  5.10  4.77  4.60  4.94  3.68  \n",
       "2020-03-14  1197   6.18  5.60  5.76  5.35  5.10  5.01  5.10  \n",
       "2020-03-15  1198   5.43  6.09  5.09  5.09  6.59  4.34  4.51  "
      ]
     },
     "execution_count": 28,
     "metadata": {},
     "output_type": "execute_result"
    }
   ],
   "source": [
    "#тестируем работу функции\n",
    "\n",
    "reg1= '/mnt/HC_Volume_18315164/home-jupyter/jupyter-e-streltsova-31/shared/problem1-reg_data.csv'\n",
    "auth1= '/mnt/HC_Volume_18315164/home-jupyter/jupyter-e-streltsova-31/shared/problem1-auth_data.csv'\n",
    "start = \"2020-03-01\"\n",
    "end = \"2020-03-15\"\n",
    "days = 15\n",
    "\n",
    "retention_rate_table (reg1, auth1, start, end, days)"
   ]
  },
  {
   "cell_type": "code",
   "execution_count": null,
   "metadata": {},
   "outputs": [],
   "source": []
  },
  {
   "cell_type": "code",
   "execution_count": null,
   "metadata": {},
   "outputs": [],
   "source": []
  }
 ],
 "metadata": {
  "kernelspec": {
   "display_name": "Python 3",
   "language": "python",
   "name": "python3"
  },
  "language_info": {
   "codemirror_mode": {
    "name": "ipython",
    "version": 3
   },
   "file_extension": ".py",
   "mimetype": "text/x-python",
   "name": "python",
   "nbconvert_exporter": "python",
   "pygments_lexer": "ipython3",
   "version": "3.7.3"
  }
 },
 "nbformat": 4,
 "nbformat_minor": 4
}
